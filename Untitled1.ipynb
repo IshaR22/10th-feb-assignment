{
 "cells": [
  {
   "cell_type": "code",
   "execution_count": null,
   "id": "0b09c862-18fb-4f9b-acb7-ac2d2d36c97d",
   "metadata": {},
   "outputs": [],
   "source": [
    "Q1. Which function is used to open a file? What are the different modes of opening a file? Explain each mode\n",
    "of file opening."
   ]
  },
  {
   "cell_type": "code",
   "execution_count": null,
   "id": "2786dd20-cceb-4d38-a78e-bbe96ff8f065",
   "metadata": {},
   "outputs": [],
   "source": [
    "In Python, the open() function is used to open a file. It takes two parameters: the file path and the mode in which the\n",
    "file should be opened.\n",
    "The different modes of opening a file in Python are:\n",
    "\n",
    "Read Mode ('r'): This mode is used to open a file for reading. \n",
    "It is the default mode if no mode is specified. In this mode, the file pointer is placed at the beginning of the file.\n",
    "If the file does not exist or cannot be opened for reading, a FileNotFoundError is raised.\n",
    "\n",
    "Write Mode ('w'): This mode is used to open a file for writing.\n",
    "If the file already exists, its contents are truncated(deleted) before writing.  \n",
    "If the file does not exist, a new file is created. In this mode, the file pointer is placed at the beginning of the file.\n",
    "\n",
    "Append Mode ('a'): This mode is used to open a file for appending. \n",
    "If the file already exists, new data is written to the end of the file.\n",
    "If the file does not exist, a new file is created. In this mode, the file pointer is placed at the end of the file.\n",
    "\n",
    "Read and Write Mode ('r+'): This mode is used to open a file for both reading and writing.\n",
    "The file pointer is placed at the beginning of the file. If the file does not exist, a FileNotFoundError is raised.\n",
    "\n",
    "Write and Read Mode ('w+'): This mode is used to open a file for both reading and writing.\n",
    "If the file already exists, its contents are truncated before writing. If the file does not exist, a new file is created.\n",
    "The file pointer is placed at the beginning of the file.\n",
    "\n",
    "Append and Read Mode ('a+'): This mode is used to open a file for both appending and reading.\n",
    "If the file already exists, new data is written to the end of the file. If the file does not exist, a new file is created.\n",
    "The file pointer is placed at the end of the file.\n",
    "\n",
    "Binary Mode ('b'): This mode is used in conjunction with any of the above modes to open a file in binary mode.\n",
    "It is used to handle binary data, such as images or executable files. For example, 'rb' opens a file for reading in binary \n",
    "mode, 'wb' opens a file for writing in binary mode, and so on."
   ]
  },
  {
   "cell_type": "code",
   "execution_count": 4,
   "id": "a6c2aa48-925e-466c-a8f6-35c2f80c5fbc",
   "metadata": {},
   "outputs": [
    {
     "name": "stdout",
     "output_type": "stream",
     "text": [
      "Hello, World!\n",
      "Hello, World!Appending new content.\n",
      "Overwriting previous content.\u0000\u0000\u0000\u0000\u0000\u0000\n",
      "Adding more content.\n",
      "Overwriting previous content.\u0000\u0000\u0000\u0000\u0000\u0000\n",
      "Adding more content.Appending new content.\n"
     ]
    }
   ],
   "source": [
    "file=open('example.txt', 'w')\n",
    "file.write('Hello, World!')\n",
    "\n",
    "file=open('example.txt', 'r')\n",
    "content = file.read()\n",
    "print(content)\n",
    "\n",
    "file=open('example.txt', 'a')\n",
    "file.write('Appending new content.')\n",
    "\n",
    "file=open('example.txt', 'r+') \n",
    "content = file.read()\n",
    "print(content)\n",
    "file.write('\\nAdding more content.')\n",
    "\n",
    "file=open('example.txt', 'w+') \n",
    "file.write('Overwriting previous content.')\n",
    "file.seek(0)\n",
    "content = file.read()\n",
    "print(content)\n",
    "\n",
    "file=open('example.txt', 'a+') \n",
    "file.write('Appending new content.')\n",
    "file.seek(0)\n",
    "content = file.read()\n",
    "print(content)\n"
   ]
  },
  {
   "cell_type": "code",
   "execution_count": null,
   "id": "f19870c3-979f-4523-8c3b-5f8281716de4",
   "metadata": {},
   "outputs": [],
   "source": [
    "Q2. Why close() function is used? Why is it important to close a file?"
   ]
  },
  {
   "cell_type": "code",
   "execution_count": null,
   "id": "d0f95560-e958-44bc-8569-718aac057284",
   "metadata": {},
   "outputs": [],
   "source": [
    "The close() function in Python is used to close an opened file. \n",
    "It is important to close a file after you have finished reading from it or writing to it.\n",
    "closing a file properly using the close() function is important to release system resources,\n",
    "flush buffered data, ensure data integrity, and allow other processes to access the file.\n",
    "It is considered good practice to always close files after you have finished working with \n",
    "them to avoid potential issues and ensure the proper functioning of your programs."
   ]
  },
  {
   "cell_type": "code",
   "execution_count": null,
   "id": "5e30503c-47c6-47cd-8c16-56bab2e8cf6e",
   "metadata": {},
   "outputs": [],
   "source": [
    "Write a python program to create a text file. Write ‘I want to become a Data Scientist’ in that file. Then\n",
    "close the file. Open this file and read the content of the file."
   ]
  },
  {
   "cell_type": "code",
   "execution_count": 5,
   "id": "30eeda99-4cc6-4986-a74e-c5f7f1b05374",
   "metadata": {},
   "outputs": [
    {
     "name": "stdout",
     "output_type": "stream",
     "text": [
      "I want to become a Data Scientist\n"
     ]
    }
   ],
   "source": [
    "f1=open('file.txt', 'w')\n",
    "f1.write('I want to become a Data Scientist')\n",
    "f1=open('file.txt', 'r')\n",
    "content = f1.read()\n",
    "print(content)\n"
   ]
  },
  {
   "cell_type": "code",
   "execution_count": null,
   "id": "8a8e42be-a239-44b0-92f8-4f50a0d8f7b9",
   "metadata": {},
   "outputs": [],
   "source": [
    "Q4. Explain the following with python code: read(), readline() and readlines()."
   ]
  },
  {
   "cell_type": "code",
   "execution_count": 21,
   "id": "df247247-cc48-4a71-8d54-906f677c8e34",
   "metadata": {},
   "outputs": [
    {
     "name": "stdout",
     "output_type": "stream",
     "text": [
      "I want to become a Data Scientist \n",
      "Line 1\n",
      "Line 2\n",
      "Line 3\n",
      "\n"
     ]
    }
   ],
   "source": [
    "f1=open('file1.txt', 'w')\n",
    "f1.write('I want to become a Data Scientist \\n')\n",
    "f1.write('Line 1\\n')\n",
    "f1.write('Line 2\\n')\n",
    "f1.write('Line 3\\n')\n",
    "f1=open('file1.txt', 'r')\n",
    "content = f1.read()\n",
    "print(content)\n",
    "f1=open('file1.txt', 'r')\n",
    "\n",
    "line = file.readline()\n",
    "while line != '':\n",
    "    print(line.strip())  \n",
    "    line = file.readline()\n",
    "\n",
    "f1=open('file1.txt', 'r')\n",
    "lines = file.readlines()\n",
    "for line in lines:\n",
    "    print(line.strip())  \n"
   ]
  },
  {
   "cell_type": "code",
   "execution_count": null,
   "id": "457305d4-0ad5-460b-942f-432c9dedc1fe",
   "metadata": {},
   "outputs": [],
   "source": [
    "Q6. Explain the write() and writelines() functions. Give a suitable example."
   ]
  },
  {
   "cell_type": "code",
   "execution_count": null,
   "id": "6b2400f1-f291-471b-aff8-285c77e72a31",
   "metadata": {},
   "outputs": [],
   "source": [
    "write(): This method is used to write a string to the file. It writes the specified string to the file \n",
    "at the current file position.\n",
    "writelines(): This method is used to write a list of strings to the file. It writes each string from the list \n",
    "to the file consecutively, without adding any separator between them."
   ]
  },
  {
   "cell_type": "code",
   "execution_count": 22,
   "id": "96fac302-563a-4fde-aa43-b0ea89f6f58f",
   "metadata": {},
   "outputs": [],
   "source": [
    "lines = ['Line 1\\n', 'Line 2\\n', 'Line 3\\n']\n",
    "with open('example.txt', 'w') as file:\n",
    "    file.writelines(lines)\n"
   ]
  },
  {
   "cell_type": "code",
   "execution_count": null,
   "id": "a118a959-c5cf-45ef-81ab-e48e5ab265cd",
   "metadata": {},
   "outputs": [],
   "source": [
    "\n",
    "with open('output.txt', 'w') as file:\n",
    "    file.write('Hello, World!\\n')\n",
    "    file.write('This is a test file.\\n')\n"
   ]
  }
 ],
 "metadata": {
  "kernelspec": {
   "display_name": "Python 3 (ipykernel)",
   "language": "python",
   "name": "python3"
  },
  "language_info": {
   "codemirror_mode": {
    "name": "ipython",
    "version": 3
   },
   "file_extension": ".py",
   "mimetype": "text/x-python",
   "name": "python",
   "nbconvert_exporter": "python",
   "pygments_lexer": "ipython3",
   "version": "3.10.8"
  }
 },
 "nbformat": 4,
 "nbformat_minor": 5
}
